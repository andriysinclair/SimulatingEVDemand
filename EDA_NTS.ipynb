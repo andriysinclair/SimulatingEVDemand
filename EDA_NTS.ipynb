{
 "cells": [
  {
   "cell_type": "code",
   "execution_count": 2,
   "metadata": {},
   "outputs": [],
   "source": [
    "import pandas as pd\n",
    "import matplotlib.pyplot as plt\n",
    "import sys\n",
    "import os\n",
    "from copulas.multivariate import GaussianMultivariate\n",
    "import numpy as np\n",
    "from itertools import combinations\n",
    "import importlib\n",
    "import logging\n",
    "import itertools\n",
    "import ast\n",
    "#import seaborn as sns\n"
   ]
  },
  {
   "cell_type": "code",
   "execution_count": 3,
   "metadata": {},
   "outputs": [
    {
     "data": {
      "text/plain": [
       "'/home/trapfishscott/Cambridge24.25/Energy_thesis/Data'"
      ]
     },
     "execution_count": 3,
     "metadata": {},
     "output_type": "execute_result"
    }
   ],
   "source": [
    "Data_folder = os.getcwd() + \"/Data\"\n",
    "\n",
    "Data_folder"
   ]
  },
  {
   "cell_type": "code",
   "execution_count": 4,
   "metadata": {},
   "outputs": [],
   "source": [
    "## Import pickls\n",
    "\n",
    "car_df = pd.read_pickle(Data_folder + \"/df_car.pkl\")"
   ]
  },
  {
   "cell_type": "code",
   "execution_count": 5,
   "metadata": {},
   "outputs": [],
   "source": [
    "# Trip type by travel day by journey sequence\n",
    "x = car_df.groupby([\"IndividualID\", \"TravDay\", \"JourSeq\"])[[\"TripType\"]].first()\n",
    "x.head()\n",
    "# Trip type by travel day by journey sequence\n",
    "x = x.groupby([\"IndividualID\", \"TravDay\"])[[\"TripType\"]].agg(list)\n",
    "\n",
    "x = x.reset_index()"
   ]
  },
  {
   "cell_type": "code",
   "execution_count": 6,
   "metadata": {},
   "outputs": [],
   "source": [
    "x[\"SumTrips\"] = x[\"TripType\"].apply(lambda x: len(x))"
   ]
  },
  {
   "cell_type": "code",
   "execution_count": 7,
   "metadata": {},
   "outputs": [],
   "source": [
    "days = np.tile(np.arange(1,8), len(x[\"IndividualID\"].unique()))\n",
    "\n",
    "individuals = [i for i in x[\"IndividualID\"].unique() for _ in range(7)]\n",
    "\n",
    "new_df = pd.DataFrame({\"IndividualID\": individuals,\n",
    "                       \"TravDay\": days })\n",
    "\n",
    "merged_df = new_df.merge(x, on=[\"IndividualID\", \"TravDay\"], how=\"left\")\n",
    "\n",
    "merged_df = merged_df.fillna(0)\n",
    "\n",
    "merged_df[\"TripType\"] = merged_df[\"TripType\"].apply(lambda x: str(x))\n"
   ]
  },
  {
   "cell_type": "code",
   "execution_count": 8,
   "metadata": {},
   "outputs": [
    {
     "name": "stdout",
     "output_type": "stream",
     "text": [
      "There are 5921 unique trip sequences.\n"
     ]
    }
   ],
   "source": [
    "\n",
    "\n",
    "print(f\"There are {len(merged_df[\"TripType\"].unique())} unique trip sequences.\")\n"
   ]
  },
  {
   "cell_type": "code",
   "execution_count": 9,
   "metadata": {},
   "outputs": [
    {
     "data": {
      "text/html": [
       "<div>\n",
       "<style scoped>\n",
       "    .dataframe tbody tr th:only-of-type {\n",
       "        vertical-align: middle;\n",
       "    }\n",
       "\n",
       "    .dataframe tbody tr th {\n",
       "        vertical-align: top;\n",
       "    }\n",
       "\n",
       "    .dataframe thead th {\n",
       "        text-align: right;\n",
       "    }\n",
       "</style>\n",
       "<table border=\"1\" class=\"dataframe\">\n",
       "  <thead>\n",
       "    <tr style=\"text-align: right;\">\n",
       "      <th></th>\n",
       "      <th>IndividualID</th>\n",
       "      <th>TravDay</th>\n",
       "      <th>TripType</th>\n",
       "      <th>SumTrips</th>\n",
       "    </tr>\n",
       "  </thead>\n",
       "  <tbody>\n",
       "    <tr>\n",
       "      <th>0</th>\n",
       "      <td>2002000001</td>\n",
       "      <td>1</td>\n",
       "      <td>0</td>\n",
       "      <td>0.0</td>\n",
       "    </tr>\n",
       "    <tr>\n",
       "      <th>1</th>\n",
       "      <td>2002000001</td>\n",
       "      <td>2</td>\n",
       "      <td>0</td>\n",
       "      <td>0.0</td>\n",
       "    </tr>\n",
       "    <tr>\n",
       "      <th>2</th>\n",
       "      <td>2002000001</td>\n",
       "      <td>3</td>\n",
       "      <td>0</td>\n",
       "      <td>0.0</td>\n",
       "    </tr>\n",
       "    <tr>\n",
       "      <th>3</th>\n",
       "      <td>2002000001</td>\n",
       "      <td>4</td>\n",
       "      <td>0</td>\n",
       "      <td>0.0</td>\n",
       "    </tr>\n",
       "    <tr>\n",
       "      <th>4</th>\n",
       "      <td>2002000001</td>\n",
       "      <td>5</td>\n",
       "      <td>0</td>\n",
       "      <td>0.0</td>\n",
       "    </tr>\n",
       "    <tr>\n",
       "      <th>...</th>\n",
       "      <td>...</td>\n",
       "      <td>...</td>\n",
       "      <td>...</td>\n",
       "      <td>...</td>\n",
       "    </tr>\n",
       "    <tr>\n",
       "      <th>1211583</th>\n",
       "      <td>2023017379</td>\n",
       "      <td>3</td>\n",
       "      <td>[(3, 1), (1, 3), (3, 2), (2, 3)]</td>\n",
       "      <td>4.0</td>\n",
       "    </tr>\n",
       "    <tr>\n",
       "      <th>1211584</th>\n",
       "      <td>2023017379</td>\n",
       "      <td>4</td>\n",
       "      <td>[(3, 2), (2, 3)]</td>\n",
       "      <td>2.0</td>\n",
       "    </tr>\n",
       "    <tr>\n",
       "      <th>1211585</th>\n",
       "      <td>2023017379</td>\n",
       "      <td>5</td>\n",
       "      <td>0</td>\n",
       "      <td>0.0</td>\n",
       "    </tr>\n",
       "    <tr>\n",
       "      <th>1211586</th>\n",
       "      <td>2023017379</td>\n",
       "      <td>6</td>\n",
       "      <td>[(3, 1), (1, 3)]</td>\n",
       "      <td>2.0</td>\n",
       "    </tr>\n",
       "    <tr>\n",
       "      <th>1211587</th>\n",
       "      <td>2023017379</td>\n",
       "      <td>7</td>\n",
       "      <td>[(3, 1), (1, 3), (3, 2), (2, 3)]</td>\n",
       "      <td>4.0</td>\n",
       "    </tr>\n",
       "  </tbody>\n",
       "</table>\n",
       "<p>1211588 rows × 4 columns</p>\n",
       "</div>"
      ],
      "text/plain": [
       "         IndividualID  TravDay                          TripType  SumTrips\n",
       "0          2002000001        1                                 0       0.0\n",
       "1          2002000001        2                                 0       0.0\n",
       "2          2002000001        3                                 0       0.0\n",
       "3          2002000001        4                                 0       0.0\n",
       "4          2002000001        5                                 0       0.0\n",
       "...               ...      ...                               ...       ...\n",
       "1211583    2023017379        3  [(3, 1), (1, 3), (3, 2), (2, 3)]       4.0\n",
       "1211584    2023017379        4                  [(3, 2), (2, 3)]       2.0\n",
       "1211585    2023017379        5                                 0       0.0\n",
       "1211586    2023017379        6                  [(3, 1), (1, 3)]       2.0\n",
       "1211587    2023017379        7  [(3, 1), (1, 3), (3, 2), (2, 3)]       4.0\n",
       "\n",
       "[1211588 rows x 4 columns]"
      ]
     },
     "execution_count": 9,
     "metadata": {},
     "output_type": "execute_result"
    }
   ],
   "source": [
    "merged_df"
   ]
  },
  {
   "cell_type": "code",
   "execution_count": 10,
   "metadata": {},
   "outputs": [],
   "source": [
    "# Finding if 1 trip, 2 trips, 3 trips ... per day. How many unique trip sequences in total + probabilities for different kinds of trip sequences\n",
    "\n",
    "trip_probs = merged_df[[\"SumTrips\", \"TripType\"]].groupby(\"SumTrips\").value_counts(normalize=True).reset_index()"
   ]
  },
  {
   "cell_type": "code",
   "execution_count": 11,
   "metadata": {},
   "outputs": [],
   "source": [
    "trip_probs[\"TripType\"] = trip_probs[\"TripType\"].apply(ast.literal_eval)"
   ]
  },
  {
   "cell_type": "code",
   "execution_count": 12,
   "metadata": {},
   "outputs": [
    {
     "data": {
      "text/html": [
       "<div>\n",
       "<style scoped>\n",
       "    .dataframe tbody tr th:only-of-type {\n",
       "        vertical-align: middle;\n",
       "    }\n",
       "\n",
       "    .dataframe tbody tr th {\n",
       "        vertical-align: top;\n",
       "    }\n",
       "\n",
       "    .dataframe thead th {\n",
       "        text-align: right;\n",
       "    }\n",
       "</style>\n",
       "<table border=\"1\" class=\"dataframe\">\n",
       "  <thead>\n",
       "    <tr style=\"text-align: right;\">\n",
       "      <th></th>\n",
       "      <th>SumTrips</th>\n",
       "      <th>TripType</th>\n",
       "      <th>proportion</th>\n",
       "    </tr>\n",
       "  </thead>\n",
       "  <tbody>\n",
       "    <tr>\n",
       "      <th>0</th>\n",
       "      <td>0.0</td>\n",
       "      <td>0</td>\n",
       "      <td>1.000000</td>\n",
       "    </tr>\n",
       "    <tr>\n",
       "      <th>1</th>\n",
       "      <td>1.0</td>\n",
       "      <td>[(3, 2)]</td>\n",
       "      <td>0.359880</td>\n",
       "    </tr>\n",
       "    <tr>\n",
       "      <th>2</th>\n",
       "      <td>1.0</td>\n",
       "      <td>[(2, 3)]</td>\n",
       "      <td>0.358808</td>\n",
       "    </tr>\n",
       "    <tr>\n",
       "      <th>3</th>\n",
       "      <td>1.0</td>\n",
       "      <td>[(3, 1)]</td>\n",
       "      <td>0.137585</td>\n",
       "    </tr>\n",
       "    <tr>\n",
       "      <th>4</th>\n",
       "      <td>1.0</td>\n",
       "      <td>[(1, 3)]</td>\n",
       "      <td>0.094877</td>\n",
       "    </tr>\n",
       "    <tr>\n",
       "      <th>...</th>\n",
       "      <td>...</td>\n",
       "      <td>...</td>\n",
       "      <td>...</td>\n",
       "    </tr>\n",
       "    <tr>\n",
       "      <th>5916</th>\n",
       "      <td>20.0</td>\n",
       "      <td>[(3, 2), (2, 3), (3, 2), (2, 2), (2, 3), (3, 2...</td>\n",
       "      <td>0.333333</td>\n",
       "    </tr>\n",
       "    <tr>\n",
       "      <th>5917</th>\n",
       "      <td>21.0</td>\n",
       "      <td>[(3, 2), (2, 2), (2, 2), (2, 2), (2, 2), (2, 2...</td>\n",
       "      <td>0.333333</td>\n",
       "    </tr>\n",
       "    <tr>\n",
       "      <th>5918</th>\n",
       "      <td>21.0</td>\n",
       "      <td>[(3, 2), (2, 2), (2, 2), (2, 2), (2, 3), (3, 2...</td>\n",
       "      <td>0.333333</td>\n",
       "    </tr>\n",
       "    <tr>\n",
       "      <th>5919</th>\n",
       "      <td>21.0</td>\n",
       "      <td>[(3, 2), (2, 3), (3, 2), (2, 2), (2, 2), (2, 3...</td>\n",
       "      <td>0.333333</td>\n",
       "    </tr>\n",
       "    <tr>\n",
       "      <th>5920</th>\n",
       "      <td>28.0</td>\n",
       "      <td>[(3, 2), (2, 3), (3, 2), (1, 2), (2, 2), (2, 3...</td>\n",
       "      <td>1.000000</td>\n",
       "    </tr>\n",
       "  </tbody>\n",
       "</table>\n",
       "<p>5921 rows × 3 columns</p>\n",
       "</div>"
      ],
      "text/plain": [
       "      SumTrips                                           TripType  proportion\n",
       "0          0.0                                                  0    1.000000\n",
       "1          1.0                                           [(3, 2)]    0.359880\n",
       "2          1.0                                           [(2, 3)]    0.358808\n",
       "3          1.0                                           [(3, 1)]    0.137585\n",
       "4          1.0                                           [(1, 3)]    0.094877\n",
       "...        ...                                                ...         ...\n",
       "5916      20.0  [(3, 2), (2, 3), (3, 2), (2, 2), (2, 3), (3, 2...    0.333333\n",
       "5917      21.0  [(3, 2), (2, 2), (2, 2), (2, 2), (2, 2), (2, 2...    0.333333\n",
       "5918      21.0  [(3, 2), (2, 2), (2, 2), (2, 2), (2, 3), (3, 2...    0.333333\n",
       "5919      21.0  [(3, 2), (2, 3), (3, 2), (2, 2), (2, 2), (2, 3...    0.333333\n",
       "5920      28.0  [(3, 2), (2, 3), (3, 2), (1, 2), (2, 2), (2, 3...    1.000000\n",
       "\n",
       "[5921 rows x 3 columns]"
      ]
     },
     "execution_count": 12,
     "metadata": {},
     "output_type": "execute_result"
    }
   ],
   "source": [
    "trip_probs"
   ]
  },
  {
   "cell_type": "code",
   "execution_count": 13,
   "metadata": {},
   "outputs": [
    {
     "name": "stdout",
     "output_type": "stream",
     "text": [
      "   SumTrips TripType  proportion\n",
      "0       0.0        0         1.0\n",
      "   SumTrips  TripType  proportion\n",
      "1       1.0  [(3, 2)]    0.359880\n",
      "2       1.0  [(2, 3)]    0.358808\n",
      "3       1.0  [(3, 1)]    0.137585\n",
      "4       1.0  [(1, 3)]    0.094877\n",
      "5       1.0  [(2, 2)]    0.043675\n",
      "    SumTrips          TripType  proportion\n",
      "8        2.0  [(3, 2), (2, 3)]    0.583721\n",
      "9        2.0  [(3, 1), (1, 3)]    0.357063\n",
      "10       2.0  [(2, 2), (2, 2)]    0.013905\n",
      "11       2.0  [(1, 3), (3, 1)]    0.013148\n",
      "12       2.0  [(2, 2), (2, 3)]    0.007467\n",
      "    SumTrips                  TripType  proportion\n",
      "50       3.0  [(3, 2), (2, 2), (2, 3)]    0.452526\n",
      "51       3.0  [(3, 1), (1, 2), (2, 3)]    0.208922\n",
      "52       3.0  [(3, 2), (2, 1), (1, 3)]    0.091577\n",
      "53       3.0  [(3, 2), (2, 3), (3, 2)]    0.040018\n",
      "54       3.0  [(2, 3), (3, 2), (2, 3)]    0.037630\n",
      "     SumTrips                          TripType  proportion\n",
      "206       4.0  [(3, 2), (2, 3), (3, 2), (2, 3)]    0.480470\n",
      "207       4.0  [(3, 1), (1, 3), (3, 2), (2, 3)]    0.180209\n",
      "208       4.0  [(3, 2), (2, 2), (2, 2), (2, 3)]    0.099815\n",
      "209       4.0  [(3, 2), (2, 1), (1, 2), (2, 3)]    0.046214\n",
      "210       4.0  [(3, 1), (1, 2), (2, 1), (1, 3)]    0.035537\n",
      "     SumTrips                                  TripType  proportion\n",
      "543       5.0  [(3, 2), (2, 2), (2, 3), (3, 2), (2, 3)]    0.258282\n",
      "544       5.0  [(3, 2), (2, 3), (3, 2), (2, 2), (2, 3)]    0.162771\n",
      "545       5.0  [(3, 2), (2, 2), (2, 2), (2, 2), (2, 3)]    0.100802\n",
      "546       5.0  [(3, 1), (1, 2), (2, 3), (3, 2), (2, 3)]    0.061356\n",
      "547       5.0  [(3, 2), (2, 1), (1, 3), (3, 2), (2, 3)]    0.047121\n",
      "      SumTrips                                          TripType  proportion\n",
      "1117       6.0  [(3, 2), (2, 3), (3, 2), (2, 3), (3, 2), (2, 3)]    0.395942\n",
      "1118       6.0  [(3, 2), (2, 2), (2, 2), (2, 3), (3, 2), (2, 3)]    0.077073\n",
      "1119       6.0  [(3, 1), (1, 3), (3, 2), (2, 3), (3, 2), (2, 3)]    0.067997\n",
      "1120       6.0  [(3, 2), (2, 3), (3, 2), (2, 2), (2, 2), (2, 3)]    0.050479\n",
      "1121       6.0  [(3, 2), (2, 2), (2, 3), (3, 2), (2, 2), (2, 3)]    0.049400\n",
      "      SumTrips                                           TripType  proportion\n",
      "1851       7.0  [(3, 2), (2, 2), (2, 3), (3, 2), (2, 3), (3, 2...    0.149420\n",
      "1852       7.0  [(3, 2), (2, 3), (3, 2), (2, 2), (2, 3), (3, 2...    0.117748\n",
      "1853       7.0  [(3, 2), (2, 3), (3, 2), (2, 3), (3, 2), (2, 2...    0.081932\n",
      "1854       7.0  [(3, 2), (2, 2), (2, 2), (2, 2), (2, 3), (3, 2...    0.066955\n",
      "1855       7.0  [(3, 2), (2, 2), (2, 2), (2, 3), (3, 2), (2, 2...    0.042801\n",
      "      SumTrips                                           TripType  proportion\n",
      "2654       8.0  [(3, 2), (2, 3), (3, 2), (2, 3), (3, 2), (2, 3...    0.302020\n",
      "2655       8.0  [(3, 2), (2, 2), (2, 2), (2, 3), (3, 2), (2, 3...    0.055023\n",
      "2656       8.0  [(3, 2), (2, 3), (3, 2), (2, 2), (2, 2), (2, 3...    0.046364\n",
      "2657       8.0  [(3, 2), (2, 2), (2, 3), (3, 2), (2, 2), (2, 3...    0.041802\n",
      "2658       8.0  [(3, 2), (2, 3), (3, 2), (2, 3), (3, 2), (2, 2...    0.028582\n",
      "      SumTrips                                           TripType  proportion\n",
      "3402       9.0  [(3, 2), (2, 2), (2, 3), (3, 2), (2, 3), (3, 2...    0.096360\n",
      "3403       9.0  [(3, 2), (2, 3), (3, 2), (2, 2), (2, 3), (3, 2...    0.082560\n",
      "3404       9.0  [(3, 2), (2, 3), (3, 2), (2, 3), (3, 2), (2, 2...    0.058768\n",
      "3405       9.0  [(3, 2), (2, 3), (3, 2), (2, 3), (3, 2), (2, 3...    0.048537\n",
      "3406       9.0  [(3, 2), (2, 2), (2, 2), (2, 3), (3, 2), (2, 2...    0.031168\n",
      "      SumTrips                                           TripType  proportion\n",
      "4062      10.0  [(3, 2), (2, 3), (3, 2), (2, 3), (3, 2), (2, 3...    0.213251\n",
      "4063      10.0  [(3, 2), (2, 2), (2, 2), (2, 3), (3, 2), (2, 3...    0.034033\n",
      "4064      10.0  [(3, 2), (2, 3), (3, 2), (2, 2), (2, 2), (2, 3...    0.028965\n",
      "4065      10.0  [(3, 2), (2, 3), (3, 2), (2, 3), (3, 2), (2, 2...    0.028602\n",
      "4066      10.0  [(3, 2), (2, 2), (2, 3), (3, 2), (2, 3), (3, 2...    0.026068\n",
      "      SumTrips                                           TripType  proportion\n",
      "4632      11.0  [(3, 2), (2, 2), (2, 3), (3, 2), (2, 3), (3, 2...    0.071030\n",
      "4633      11.0  [(3, 2), (2, 3), (3, 2), (2, 2), (2, 3), (3, 2...    0.060654\n",
      "4634      11.0  [(3, 2), (2, 3), (3, 2), (2, 3), (3, 2), (2, 2...    0.034318\n",
      "4635      11.0  [(3, 2), (2, 3), (3, 2), (2, 3), (3, 2), (2, 3...    0.027933\n",
      "4636      11.0  [(3, 2), (2, 3), (3, 2), (2, 2), (2, 2), (2, 2...    0.025539\n",
      "      SumTrips                                           TripType  proportion\n",
      "5071      12.0  [(3, 2), (2, 3), (3, 2), (2, 3), (3, 2), (2, 3...    0.155102\n",
      "5072      12.0  [(3, 2), (2, 3), (3, 2), (2, 2), (2, 2), (2, 3...    0.020408\n",
      "5073      12.0  [(3, 2), (2, 2), (2, 3), (3, 2), (2, 2), (2, 3...    0.017687\n",
      "5074      12.0  [(3, 2), (2, 2), (2, 2), (2, 3), (3, 2), (2, 3...    0.016327\n",
      "5075      12.0  [(3, 2), (2, 2), (2, 3), (3, 2), (2, 3), (3, 2...    0.014966\n",
      "      SumTrips                                           TripType  proportion\n",
      "5404      13.0  [(3, 2), (2, 2), (2, 3), (3, 2), (2, 3), (3, 2...    0.044379\n",
      "5405      13.0  [(3, 2), (2, 3), (3, 2), (2, 2), (2, 3), (3, 2...    0.038462\n",
      "5406      13.0  [(3, 2), (2, 3), (3, 2), (2, 3), (3, 2), (2, 3...    0.029586\n",
      "5407      13.0  [(3, 2), (2, 3), (3, 2), (2, 3), (3, 2), (2, 2...    0.023669\n",
      "5408      13.0  [(3, 2), (2, 3), (3, 2), (2, 3), (3, 2), (2, 3...    0.023669\n",
      "      SumTrips                                           TripType  proportion\n",
      "5606      14.0  [(3, 2), (2, 3), (3, 2), (2, 3), (3, 2), (2, 3...    0.125000\n",
      "5607      14.0  [(3, 2), (2, 3), (3, 2), (2, 3), (3, 2), (2, 2...    0.029762\n",
      "5608      14.0  [(3, 2), (2, 2), (2, 2), (2, 2), (2, 2), (2, 2...    0.017857\n",
      "5609      14.0  [(3, 2), (2, 3), (3, 2), (2, 3), (3, 2), (2, 3...    0.017857\n",
      "5610      14.0  [(3, 2), (2, 2), (2, 2), (2, 2), (2, 3), (3, 2...    0.011905\n",
      "      SumTrips                                           TripType  proportion\n",
      "5735      15.0  [(3, 2), (2, 2), (2, 2), (2, 3), (3, 2), (2, 3...    0.019417\n",
      "5736      15.0  [(3, 2), (2, 3), (3, 2), (2, 2), (2, 2), (2, 3...    0.019417\n",
      "5737      15.0  [(3, 2), (2, 3), (3, 2), (2, 2), (2, 3), (3, 2...    0.019417\n",
      "5738      15.0  [(3, 2), (2, 3), (3, 2), (2, 3), (3, 2), (2, 3...    0.019417\n",
      "5739      15.0  [(2, 2), (2, 2), (2, 2), (2, 2), (2, 2), (2, 2...    0.009709\n",
      "      SumTrips                                           TripType  proportion\n",
      "5834      16.0  [(3, 2), (2, 3), (3, 2), (2, 3), (3, 2), (2, 3...    0.069767\n",
      "5835      16.0  [(3, 2), (2, 3), (3, 2), (2, 3), (3, 2), (2, 3...    0.046512\n",
      "5836      16.0  [(2, 2), (2, 2), (2, 2), (2, 2), (2, 2), (2, 3...    0.023256\n",
      "5837      16.0  [(2, 2), (2, 2), (2, 2), (2, 2), (2, 3), (3, 2...    0.023256\n",
      "5838      16.0  [(2, 2), (3, 2), (2, 2), (2, 2), (2, 2), (2, 2...    0.023256\n",
      "      SumTrips                                           TripType  proportion\n",
      "5874      17.0  [(2, 2), (2, 2), (2, 2), (2, 2), (2, 2), (2, 2...    0.055556\n",
      "5875      17.0  [(2, 2), (2, 3), (3, 2), (2, 3), (3, 2), (2, 3...    0.055556\n",
      "5876      17.0  [(2, 3), (3, 2), (2, 3), (3, 2), (2, 3), (3, 2...    0.055556\n",
      "5877      17.0  [(3, 1), (1, 2), (2, 3), (3, 2), (2, 3), (3, 2...    0.055556\n",
      "5878      17.0  [(3, 1), (1, 3), (3, 2), (2, 3), (3, 2), (2, 3...    0.055556\n",
      "      SumTrips                                           TripType  proportion\n",
      "5892      18.0  [(1, 2), (2, 3), (3, 2), (2, 3), (3, 2), (2, 2...    0.071429\n",
      "5893      18.0  [(3, 2), (2, 1), (1, 2), (2, 3), (3, 2), (2, 3...    0.071429\n",
      "5894      18.0  [(3, 2), (2, 2), (2, 1), (1, 2), (2, 2), (2, 2...    0.071429\n",
      "5895      18.0  [(3, 2), (2, 2), (2, 2), (2, 2), (2, 2), (2, 2...    0.071429\n",
      "5896      18.0  [(3, 2), (2, 2), (2, 2), (2, 2), (2, 2), (2, 2...    0.071429\n",
      "      SumTrips                                           TripType  proportion\n",
      "5906      19.0  [(3, 1), (1, 3), (3, 2), (2, 2), (2, 2), (2, 1...       0.125\n",
      "5907      19.0  [(3, 1), (1, 3), (3, 2), (2, 3), (3, 2), (2, 2...       0.125\n",
      "5908      19.0  [(3, 2), (2, 2), (2, 2), (2, 2), (2, 2), (2, 2...       0.125\n",
      "5909      19.0  [(3, 2), (2, 2), (2, 3), (3, 2), (2, 3), (3, 2...       0.125\n",
      "5910      19.0  [(3, 2), (2, 2), (2, 3), (3, 2), (2, 3), (3, 2...       0.125\n",
      "      SumTrips                                           TripType  proportion\n",
      "5914      20.0  [(3, 2), (2, 2), (2, 3), (3, 2), (2, 3), (3, 2...    0.333333\n",
      "5915      20.0  [(3, 2), (2, 3), (3, 2), (2, 2), (2, 2), (2, 2...    0.333333\n",
      "5916      20.0  [(3, 2), (2, 3), (3, 2), (2, 2), (2, 3), (3, 2...    0.333333\n",
      "      SumTrips                                           TripType  proportion\n",
      "5917      21.0  [(3, 2), (2, 2), (2, 2), (2, 2), (2, 2), (2, 2...    0.333333\n",
      "5918      21.0  [(3, 2), (2, 2), (2, 2), (2, 2), (2, 3), (3, 2...    0.333333\n",
      "5919      21.0  [(3, 2), (2, 3), (3, 2), (2, 2), (2, 2), (2, 3...    0.333333\n",
      "      SumTrips                                           TripType  proportion\n",
      "5920      28.0  [(3, 2), (2, 3), (3, 2), (1, 2), (2, 2), (2, 3...         1.0\n"
     ]
    }
   ],
   "source": [
    "pop_seq_weights = {}\n",
    "\n",
    "for trip_length in trip_probs.SumTrips.unique():\n",
    "    by_trip_length = trip_probs[trip_probs[\"SumTrips\"] == trip_length]\n",
    "    print(by_trip_length.head())\n",
    "    population = list(by_trip_length[\"TripType\"])\n",
    "    weights = list(by_trip_length[\"proportion\"])\n",
    "    #print(population[0])\n",
    "    #print(weights[0])\n",
    "    pop_seq_weights[f\"trip_length_{int(trip_length)}\"] = [population, weights]\n",
    "\n"
   ]
  },
  {
   "cell_type": "code",
   "execution_count": 14,
   "metadata": {},
   "outputs": [
    {
     "data": {
      "text/plain": [
       "[0.5837208681750808,\n",
       " 0.35706332282925907,\n",
       " 0.013905162522045213,\n",
       " 0.0131482869625759,\n",
       " 0.007466868500149192,\n",
       " 0.00654745876605025,\n",
       " 0.004451495678289073,\n",
       " 0.0030056692890464095,\n",
       " 0.0021978501823051227,\n",
       " 0.002040167774082349,\n",
       " 0.001855800650621875,\n",
       " 0.0009533720989469241,\n",
       " 0.0009048544348783784,\n",
       " 0.0006113225672636765,\n",
       " 0.0005167131223300122,\n",
       " 0.00038814131254836604,\n",
       " 0.00026684715237700166,\n",
       " 0.00026442126917357436,\n",
       " 0.00020134830588446488,\n",
       " 5.579531367882762e-05,\n",
       " 4.8517664068545755e-05,\n",
       " 4.8517664068545755e-05,\n",
       " 4.366589766169118e-05,\n",
       " 3.638824805140932e-05,\n",
       " 3.396236484798203e-05,\n",
       " 3.153648164455474e-05,\n",
       " 2.9110598441127454e-05,\n",
       " 2.6684715237700166e-05,\n",
       " 2.4258832034272877e-05,\n",
       " 1.9407065627418304e-05,\n",
       " 1.9407065627418304e-05,\n",
       " 9.703532813709152e-06,\n",
       " 9.703532813709152e-06,\n",
       " 9.703532813709152e-06,\n",
       " 9.703532813709152e-06,\n",
       " 7.2776496102818635e-06,\n",
       " 7.2776496102818635e-06,\n",
       " 4.851766406854576e-06,\n",
       " 4.851766406854576e-06,\n",
       " 4.851766406854576e-06,\n",
       " 2.425883203427288e-06,\n",
       " 2.425883203427288e-06]"
      ]
     },
     "execution_count": 14,
     "metadata": {},
     "output_type": "execute_result"
    }
   ],
   "source": [
    "pop_seq_weights[\"trip_length_2\"][1]"
   ]
  },
  {
   "cell_type": "code",
   "execution_count": 15,
   "metadata": {},
   "outputs": [
    {
     "name": "stdout",
     "output_type": "stream",
     "text": [
      "trip_length_0 0 1.0\n",
      "trip_length_1 [(3, 2)] 0.3598797699947726\n",
      "trip_length_2 [(3, 2), (2, 3)] 0.5837208681750808\n",
      "trip_length_3 [(3, 2), (2, 2), (2, 3)] 0.45252596816400226\n",
      "trip_length_4 [(3, 2), (2, 3), (3, 2), (2, 3)] 0.4804698049806865\n"
     ]
    }
   ],
   "source": [
    "for i,(k,v) in enumerate(pop_seq_weights.items()):\n",
    "    if i <=4:\n",
    "        print(k, v[0][0], v[1][0])"
   ]
  },
  {
   "cell_type": "code",
   "execution_count": 16,
   "metadata": {},
   "outputs": [
    {
     "data": {
      "text/html": [
       "<div>\n",
       "<style scoped>\n",
       "    .dataframe tbody tr th:only-of-type {\n",
       "        vertical-align: middle;\n",
       "    }\n",
       "\n",
       "    .dataframe tbody tr th {\n",
       "        vertical-align: top;\n",
       "    }\n",
       "\n",
       "    .dataframe thead th {\n",
       "        text-align: right;\n",
       "    }\n",
       "</style>\n",
       "<table border=\"1\" class=\"dataframe\">\n",
       "  <thead>\n",
       "    <tr style=\"text-align: right;\">\n",
       "      <th></th>\n",
       "      <th>TripType</th>\n",
       "      <th>proportion</th>\n",
       "      <th>TripType_mapped</th>\n",
       "    </tr>\n",
       "  </thead>\n",
       "  <tbody>\n",
       "    <tr>\n",
       "      <th>0</th>\n",
       "      <td>(2, 3)</td>\n",
       "      <td>0.324670</td>\n",
       "      <td>other-&gt;home</td>\n",
       "    </tr>\n",
       "    <tr>\n",
       "      <th>1</th>\n",
       "      <td>(3, 2)</td>\n",
       "      <td>0.318645</td>\n",
       "      <td>home-&gt;other</td>\n",
       "    </tr>\n",
       "    <tr>\n",
       "      <th>2</th>\n",
       "      <td>(3, 1)</td>\n",
       "      <td>0.106809</td>\n",
       "      <td>home-&gt;work</td>\n",
       "    </tr>\n",
       "    <tr>\n",
       "      <th>3</th>\n",
       "      <td>(2, 2)</td>\n",
       "      <td>0.104834</td>\n",
       "      <td>other-&gt;other</td>\n",
       "    </tr>\n",
       "    <tr>\n",
       "      <th>4</th>\n",
       "      <td>(1, 3)</td>\n",
       "      <td>0.099178</td>\n",
       "      <td>work-&gt;home</td>\n",
       "    </tr>\n",
       "    <tr>\n",
       "      <th>5</th>\n",
       "      <td>(1, 2)</td>\n",
       "      <td>0.026362</td>\n",
       "      <td>work-&gt;other</td>\n",
       "    </tr>\n",
       "    <tr>\n",
       "      <th>6</th>\n",
       "      <td>(2, 1)</td>\n",
       "      <td>0.019503</td>\n",
       "      <td>other-&gt;work</td>\n",
       "    </tr>\n",
       "  </tbody>\n",
       "</table>\n",
       "</div>"
      ],
      "text/plain": [
       "  TripType  proportion TripType_mapped\n",
       "0   (2, 3)    0.324670     other->home\n",
       "1   (3, 2)    0.318645     home->other\n",
       "2   (3, 1)    0.106809      home->work\n",
       "3   (2, 2)    0.104834    other->other\n",
       "4   (1, 3)    0.099178      work->home\n",
       "5   (1, 2)    0.026362     work->other\n",
       "6   (2, 1)    0.019503     other->work"
      ]
     },
     "execution_count": 16,
     "metadata": {},
     "output_type": "execute_result"
    }
   ],
   "source": [
    "r = car_df[\"TripType\"].value_counts(normalize=True).reset_index()\n",
    "\n",
    "#1 work\n",
    "#2 other\n",
    "#3 home\n",
    "\n",
    "mapping = {(2,3): \"other->home\",\n",
    "           (3,2): \"home->other\",\n",
    "           (3,1): \"home->work\",\n",
    "           (2,2): \"other->other\",\n",
    "           (1,3): \"work->home\",\n",
    "           (1,2): \"work->other\",\n",
    "           (2,1): \"other->work\"}\n",
    "\n",
    "r[\"TripType_mapped\"] = r[\"TripType\"].map(mapping)\n",
    "\n",
    "r"
   ]
  },
  {
   "cell_type": "code",
   "execution_count": 17,
   "metadata": {},
   "outputs": [
    {
     "data": {
      "text/plain": [
       "(array([1.5700e+02, 8.2000e+01, 4.3000e+01, 4.4000e+01, 4.9000e+01,\n",
       "        7.2000e+01, 1.1700e+02, 3.2400e+02, 6.6800e+02, 1.9110e+03,\n",
       "        4.5700e+03, 1.0510e+04, 2.5534e+04, 4.8286e+04, 4.3246e+04,\n",
       "        3.6466e+04, 4.1277e+04, 3.4896e+04, 2.3870e+04, 2.4541e+04,\n",
       "        1.9270e+04, 2.1533e+04, 2.3057e+04, 2.9038e+04, 2.7420e+04,\n",
       "        2.0470e+04, 1.9116e+04, 1.7065e+04, 2.3434e+04, 2.1949e+04,\n",
       "        2.8797e+04, 1.5818e+04, 9.8420e+03, 5.3600e+03, 3.0230e+03,\n",
       "        1.9120e+03, 1.0180e+03, 6.2200e+02, 7.0000e+01, 7.0000e+00,\n",
       "        1.0000e+00, 1.0000e+00, 1.0000e+00, 0.0000e+00, 0.0000e+00,\n",
       "        0.0000e+00, 0.0000e+00, 0.0000e+00, 0.0000e+00, 1.0000e+00]),\n",
       " array([   0. ,   37.8,   75.6,  113.4,  151.2,  189. ,  226.8,  264.6,\n",
       "         302.4,  340.2,  378. ,  415.8,  453.6,  491.4,  529.2,  567. ,\n",
       "         604.8,  642.6,  680.4,  718.2,  756. ,  793.8,  831.6,  869.4,\n",
       "         907.2,  945. ,  982.8, 1020.6, 1058.4, 1096.2, 1134. , 1171.8,\n",
       "        1209.6, 1247.4, 1285.2, 1323. , 1360.8, 1398.6, 1436.4, 1474.2,\n",
       "        1512. , 1549.8, 1587.6, 1625.4, 1663.2, 1701. , 1738.8, 1776.6,\n",
       "        1814.4, 1852.2, 1890. ]),\n",
       " <BarContainer object of 50 artists>)"
      ]
     },
     "execution_count": 17,
     "metadata": {},
     "output_type": "execute_result"
    },
    {
     "data": {
      "image/png": "[encoded data removed]",
      "text/plain": [
       "<Figure size 640x480 with 1 Axes>"
      ]
     },
     "metadata": {},
     "output_type": "display_data"
    }
   ],
   "source": [
    "car_df_wd = car_df[car_df[\"TravelWeekDay_B03ID\"]==1]\n",
    "\n",
    "\n",
    "x = car_df_wd[car_df_wd[\"TripType\"] == (1,3)]\n",
    "y = car_df_wd[car_df_wd[\"TripType\"] == (3,1)]\n",
    "z = car_df_wd[car_df_wd[\"TripType\"] == (3,2)]\n",
    "\n",
    "plt.hist(x[\"TripStart\"], bins=50)\n",
    "plt.hist(y[\"TripEnd\"], bins=50)\n",
    "plt.hist(z[\"TripEnd\"], bins=50, alpha=0.3)"
   ]
  },
  {
   "cell_type": "code",
   "execution_count": 18,
   "metadata": {},
   "outputs": [
    {
     "data": {
      "text/plain": [
       "(array([115632., 123554.,  89566.,  49463.,  39051.,  43039.,  19720.,\n",
       "         11919.,  14888.,   7058.,  13756.,   5158.,   7190.,   3724.,\n",
       "          2925.,   4598.,   3897.,   1525.,   1842.,   1366.,   3315.,\n",
       "          1190.,    982.,    963.,    603.,   2132.,    754.,    564.,\n",
       "           529.,   1054.,    901.,    600.,    321.,   1067.,    305.,\n",
       "           731.,    311.,    718.,    281.,    285.,    513.,    693.,\n",
       "           216.,    273.,    229.,    532.,    205.,    188.,    207.,\n",
       "           634.]),\n",
       " array([ 0. ,  1.2,  2.4,  3.6,  4.8,  6. ,  7.2,  8.4,  9.6, 10.8, 12. ,\n",
       "        13.2, 14.4, 15.6, 16.8, 18. , 19.2, 20.4, 21.6, 22.8, 24. , 25.2,\n",
       "        26.4, 27.6, 28.8, 30. , 31.2, 32.4, 33.6, 34.8, 36. , 37.2, 38.4,\n",
       "        39.6, 40.8, 42. , 43.2, 44.4, 45.6, 46.8, 48. , 49.2, 50.4, 51.6,\n",
       "        52.8, 54. , 55.2, 56.4, 57.6, 58.8, 60. ]),\n",
       " <BarContainer object of 50 artists>)"
      ]
     },
     "execution_count": 18,
     "metadata": {},
     "output_type": "execute_result"
    },
    {
     "data": {
      "image/png": "[encoded data removed]",
      "text/plain": [
       "<Figure size 640x480 with 1 Axes>"
      ]
     },
     "metadata": {},
     "output_type": "display_data"
    }
   ],
   "source": [
    "car_df_wd = car_df[car_df[\"TravelWeekDay_B03ID\"]==1]\n",
    "\n",
    "\n",
    "x = car_df_wd[car_df_wd[\"TripType\"] == (1,3)]\n",
    "y = car_df_wd[car_df_wd[\"TripType\"] == (3,1)]\n",
    "z = car_df_wd[car_df_wd[\"TripType\"] == (3,2)]\n",
    "\n",
    "plt.hist(x[\"TripDisExSW\"], bins=50, range=(0,60))\n",
    "#plt.hist(y[\"TripEnd\"], bins=50)\n",
    "plt.hist(z[\"TripDisExSW\"], bins=50, alpha=0.3, range=(0,60))"
   ]
  },
  {
   "cell_type": "code",
   "execution_count": 19,
   "metadata": {},
   "outputs": [
    {
     "data": {
      "text/plain": [
       "(array([1.3700e+02, 7.6000e+01, 4.6000e+01, 4.9000e+01, 2.0000e+01,\n",
       "        2.5000e+01, 2.9000e+01, 2.6000e+01, 3.9000e+01, 8.9000e+01,\n",
       "        1.4900e+02, 3.9000e+02, 5.8000e+02, 1.5460e+03, 2.0700e+03,\n",
       "        4.2040e+03, 5.5720e+03, 9.7400e+03, 1.3236e+04, 1.8131e+04,\n",
       "        1.5806e+04, 1.6545e+04, 1.3494e+04, 1.2103e+04, 9.9450e+03,\n",
       "        1.1091e+04, 9.5320e+03, 1.3701e+04, 8.4090e+03, 8.4630e+03,\n",
       "        5.7610e+03, 6.5160e+03, 4.7550e+03, 4.8740e+03, 4.8450e+03,\n",
       "        5.5560e+03, 5.6570e+03, 4.5910e+03, 3.4490e+03, 2.1780e+03,\n",
       "        1.5220e+03, 8.9000e+02, 7.3100e+02, 4.7100e+02, 3.6000e+02,\n",
       "        2.5400e+02, 6.4000e+01, 1.0000e+00, 1.0000e+00, 3.0000e+00]),\n",
       " array([   0. ,   31.1,   62.2,   93.3,  124.4,  155.5,  186.6,  217.7,\n",
       "         248.8,  279.9,  311. ,  342.1,  373.2,  404.3,  435.4,  466.5,\n",
       "         497.6,  528.7,  559.8,  590.9,  622. ,  653.1,  684.2,  715.3,\n",
       "         746.4,  777.5,  808.6,  839.7,  870.8,  901.9,  933. ,  964.1,\n",
       "         995.2, 1026.3, 1057.4, 1088.5, 1119.6, 1150.7, 1181.8, 1212.9,\n",
       "        1244. , 1275.1, 1306.2, 1337.3, 1368.4, 1399.5, 1430.6, 1461.7,\n",
       "        1492.8, 1523.9, 1555. ]),\n",
       " <BarContainer object of 50 artists>)"
      ]
     },
     "execution_count": 19,
     "metadata": {},
     "output_type": "execute_result"
    },
    {
     "data": {
      "image/png": "[encoded data removed]",
      "text/plain": [
       "<Figure size 640x480 with 1 Axes>"
      ]
     },
     "metadata": {},
     "output_type": "display_data"
    }
   ],
   "source": [
    "car_df_we = car_df[car_df[\"TravelWeekDay_B03ID\"]==2]\n",
    "\n",
    "\n",
    "x = car_df_we[car_df_we[\"TripType\"] == (1,3)]\n",
    "y = car_df_we[car_df_we[\"TripType\"] == (3,1)]\n",
    "z = car_df_we[car_df_we[\"TripType\"] == (3,2)]\n",
    "\n",
    "plt.hist(x[\"TripStart\"], bins=50)\n",
    "plt.hist(y[\"TripEnd\"], bins=50)\n",
    "plt.hist(z[\"TripEnd\"], bins=50, alpha=0.3)"
   ]
  }
 ],
 "metadata": {
  "kernelspec": {
   "display_name": "EnergyThesis",
   "language": "python",
   "name": "python3"
  },
  "language_info": {
   "codemirror_mode": {
    "name": "ipython",
    "version": 3
   },
   "file_extension": ".py",
   "mimetype": "text/x-python",
   "name": "python",
   "nbconvert_exporter": "python",
   "pygments_lexer": "ipython3",
   "version": "3.13.1"
  }
 },
 "nbformat": 4,
 "nbformat_minor": 2
}
