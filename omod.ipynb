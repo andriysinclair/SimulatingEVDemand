{
 "cells": [
  {
   "cell_type": "code",
   "execution_count": 1,
   "metadata": {},
   "outputs": [],
   "source": [
    "import json\n",
    "\n",
    "# Open and load the JSON file\n",
    "with open(\"/home/trapfishscott/Cambridge24.25/Energy_thesis/OMOD/output.json\", \"r\", encoding=\"utf-8\") as file:\n",
    "    data = json.load(file)  # Converts JSON to a Python dictionary"
   ]
  },
  {
   "cell_type": "code",
   "execution_count": 3,
   "metadata": {},
   "outputs": [
    {
     "data": {
      "text/plain": [
       "1000"
      ]
     },
     "execution_count": 3,
     "metadata": {},
     "output_type": "execute_result"
    }
   ],
   "source": [
    "len(data)"
   ]
  },
  {
   "cell_type": "code",
   "execution_count": 41,
   "metadata": {},
   "outputs": [
    {
     "name": "stdout",
     "output_type": "stream",
     "text": [
      "303.8453736940587\n",
      "485.5913532130695\n",
      "314.99627288409994\n",
      "76.3433857785984\n",
      "None\n"
     ]
    },
    {
     "data": {
      "text/plain": [
       "19.679606426163776"
      ]
     },
     "execution_count": 41,
     "metadata": {},
     "output_type": "execute_result"
    }
   ],
   "source": [
    "day0 = data[0][\"mobilityDemand\"][0]\n",
    "\n",
    "total_time = []\n",
    "\n",
    "for k,v in day0.items():\n",
    "    if k == \"activities\":\n",
    "        for i in v:\n",
    "            print(i[\"stayTime\"])\n",
    "            total_time.append(i[\"stayTime\"])\n",
    "\n",
    "sum(total_time[:-1])/60"
   ]
  },
  {
   "cell_type": "code",
   "execution_count": 42,
   "metadata": {},
   "outputs": [
    {
     "data": {
      "text/plain": [
       "{'day': 0,\n",
       " 'dayType': 'MO',\n",
       " 'activities': [{'type': 'HOME',\n",
       "   'stayTime': 303.8453736940587,\n",
       "   'lat': 51.27802411971217,\n",
       "   'lon': 1.0645023014521826,\n",
       "   'dummyLoc': False,\n",
       "   'inFocusArea': True},\n",
       "  {'type': 'WORK',\n",
       "   'stayTime': 485.5913532130695,\n",
       "   'lat': 51.2822316931147,\n",
       "   'lon': 1.073857704128334,\n",
       "   'dummyLoc': False,\n",
       "   'inFocusArea': True},\n",
       "  {'type': 'HOME',\n",
       "   'stayTime': 314.99627288409994,\n",
       "   'lat': 51.27802411971217,\n",
       "   'lon': 1.0645023014521826,\n",
       "   'dummyLoc': False,\n",
       "   'inFocusArea': True},\n",
       "  {'type': 'OTHER',\n",
       "   'stayTime': 76.3433857785984,\n",
       "   'lat': 51.27432860591292,\n",
       "   'lon': 1.0736002301969447,\n",
       "   'dummyLoc': False,\n",
       "   'inFocusArea': True},\n",
       "  {'type': 'HOME',\n",
       "   'stayTime': None,\n",
       "   'lat': 51.27802411971217,\n",
       "   'lon': 1.0645023014521826,\n",
       "   'dummyLoc': False,\n",
       "   'inFocusArea': True}]}"
      ]
     },
     "execution_count": 42,
     "metadata": {},
     "output_type": "execute_result"
    }
   ],
   "source": [
    "day0"
   ]
  }
 ],
 "metadata": {
  "kernelspec": {
   "display_name": "EnergyThesis",
   "language": "python",
   "name": "python3"
  },
  "language_info": {
   "codemirror_mode": {
    "name": "ipython",
    "version": 3
   },
   "file_extension": ".py",
   "mimetype": "text/x-python",
   "name": "python",
   "nbconvert_exporter": "python",
   "pygments_lexer": "ipython3",
   "version": "3.13.1"
  }
 },
 "nbformat": 4,
 "nbformat_minor": 2
}
